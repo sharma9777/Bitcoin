{
 "cells": [
  {
   "cell_type": "code",
   "execution_count": 1,
   "metadata": {},
   "outputs": [
    {
     "name": "stderr",
     "output_type": "stream",
     "text": [
      "Using TensorFlow backend.\n"
     ]
    }
   ],
   "source": [
    "import numpy as np\n",
    "import matplotlib.pyplot as plt\n",
    "import pandas as pd\n",
    "from sklearn.preprocessing import MinMaxScaler\n",
    "plt.style.use(\"ggplot\")\n",
    "\n",
    "from keras.models import Sequential\n",
    "from keras.layers import LSTM, Dense, Dropout"
   ]
  },
  {
   "cell_type": "code",
   "execution_count": 2,
   "metadata": {},
   "outputs": [
    {
     "data": {
      "text/html": [
       "<div>\n",
       "<style scoped>\n",
       "    .dataframe tbody tr th:only-of-type {\n",
       "        vertical-align: middle;\n",
       "    }\n",
       "\n",
       "    .dataframe tbody tr th {\n",
       "        vertical-align: top;\n",
       "    }\n",
       "\n",
       "    .dataframe thead th {\n",
       "        text-align: right;\n",
       "    }\n",
       "</style>\n",
       "<table border=\"1\" class=\"dataframe\">\n",
       "  <thead>\n",
       "    <tr style=\"text-align: right;\">\n",
       "      <th></th>\n",
       "      <th>Date</th>\n",
       "      <th>Open</th>\n",
       "      <th>High</th>\n",
       "      <th>Low</th>\n",
       "      <th>Close</th>\n",
       "      <th>Adj Close</th>\n",
       "      <th>Volume</th>\n",
       "    </tr>\n",
       "  </thead>\n",
       "  <tbody>\n",
       "    <tr>\n",
       "      <td>0</td>\n",
       "      <td>2014-12-16</td>\n",
       "      <td>345.673004</td>\n",
       "      <td>345.859009</td>\n",
       "      <td>327.062012</td>\n",
       "      <td>327.062012</td>\n",
       "      <td>327.062012</td>\n",
       "      <td>30864900</td>\n",
       "    </tr>\n",
       "    <tr>\n",
       "      <td>1</td>\n",
       "      <td>2014-12-17</td>\n",
       "      <td>326.855011</td>\n",
       "      <td>333.954010</td>\n",
       "      <td>315.152008</td>\n",
       "      <td>319.776001</td>\n",
       "      <td>319.776001</td>\n",
       "      <td>37567900</td>\n",
       "    </tr>\n",
       "    <tr>\n",
       "      <td>2</td>\n",
       "      <td>2014-12-18</td>\n",
       "      <td>319.785004</td>\n",
       "      <td>323.709015</td>\n",
       "      <td>304.231995</td>\n",
       "      <td>311.395996</td>\n",
       "      <td>311.395996</td>\n",
       "      <td>39173000</td>\n",
       "    </tr>\n",
       "    <tr>\n",
       "      <td>3</td>\n",
       "      <td>2014-12-19</td>\n",
       "      <td>311.178986</td>\n",
       "      <td>318.532990</td>\n",
       "      <td>306.769012</td>\n",
       "      <td>317.842987</td>\n",
       "      <td>317.842987</td>\n",
       "      <td>23823100</td>\n",
       "    </tr>\n",
       "    <tr>\n",
       "      <td>4</td>\n",
       "      <td>2014-12-20</td>\n",
       "      <td>317.618988</td>\n",
       "      <td>330.325012</td>\n",
       "      <td>316.044006</td>\n",
       "      <td>329.955994</td>\n",
       "      <td>329.955994</td>\n",
       "      <td>20856700</td>\n",
       "    </tr>\n",
       "  </tbody>\n",
       "</table>\n",
       "</div>"
      ],
      "text/plain": [
       "        Date        Open        High         Low       Close   Adj Close  \\\n",
       "0 2014-12-16  345.673004  345.859009  327.062012  327.062012  327.062012   \n",
       "1 2014-12-17  326.855011  333.954010  315.152008  319.776001  319.776001   \n",
       "2 2014-12-18  319.785004  323.709015  304.231995  311.395996  311.395996   \n",
       "3 2014-12-19  311.178986  318.532990  306.769012  317.842987  317.842987   \n",
       "4 2014-12-20  317.618988  330.325012  316.044006  329.955994  329.955994   \n",
       "\n",
       "     Volume  \n",
       "0  30864900  \n",
       "1  37567900  \n",
       "2  39173000  \n",
       "3  23823100  \n",
       "4  20856700  "
      ]
     },
     "execution_count": 2,
     "metadata": {},
     "output_type": "execute_result"
    }
   ],
   "source": [
    "excel_file = 'BTC-USD-new.xlsx'\n",
    "data = pd.read_excel(excel_file)\n",
    "(data.head())"
   ]
  },
  {
   "cell_type": "code",
   "execution_count": 3,
   "metadata": {
    "scrolled": true
   },
   "outputs": [
    {
     "data": {
      "image/png": "[encoded data removed]",
      "text/plain": [
       "<Figure size 1152x360 with 1 Axes>"
      ]
     },
     "metadata": {
      "needs_background": "light"
     },
     "output_type": "display_data"
    }
   ],
   "source": [
    "data.plot(x = 'Date',y = 'Close',figsize=(16,5))\n",
    "\n",
    "plt.xlabel('Date')\n",
    "plt.ylabel('Price in USD')\n",
    "plt.title('Bitcoin Price')\n",
    "plt.savefig('btcprice.png')\n",
    "plt.show()"
   ]
  },
  {
   "cell_type": "code",
   "execution_count": 4,
   "metadata": {},
   "outputs": [],
   "source": [
    "data = data.set_index(\"Date\")\n",
    "data = data.set_index(pd.to_datetime(data.index))\n"
   ]
  },
  {
   "cell_type": "code",
   "execution_count": 5,
   "metadata": {},
   "outputs": [],
   "source": [
    "from sklearn.preprocessing import MinMaxScaler\n",
    "scaler = MinMaxScaler()\n",
    "data = pd.DataFrame(scaler.fit_transform(data), columns=data.columns, index=data.index)"
   ]
  },
  {
   "cell_type": "code",
   "execution_count": 6,
   "metadata": {},
   "outputs": [
    {
     "data": {
      "text/html": [
       "<div>\n",
       "<style scoped>\n",
       "    .dataframe tbody tr th:only-of-type {\n",
       "        vertical-align: middle;\n",
       "    }\n",
       "\n",
       "    .dataframe tbody tr th {\n",
       "        vertical-align: top;\n",
       "    }\n",
       "\n",
       "    .dataframe thead th {\n",
       "        text-align: right;\n",
       "    }\n",
       "</style>\n",
       "<table border=\"1\" class=\"dataframe\">\n",
       "  <thead>\n",
       "    <tr style=\"text-align: right;\">\n",
       "      <th></th>\n",
       "      <th>Open</th>\n",
       "      <th>High</th>\n",
       "      <th>Low</th>\n",
       "      <th>Close</th>\n",
       "      <th>Adj Close</th>\n",
       "      <th>Volume</th>\n",
       "    </tr>\n",
       "    <tr>\n",
       "      <th>Date</th>\n",
       "      <th></th>\n",
       "      <th></th>\n",
       "      <th></th>\n",
       "      <th></th>\n",
       "      <th></th>\n",
       "      <th></th>\n",
       "    </tr>\n",
       "  </thead>\n",
       "  <tbody>\n",
       "    <tr>\n",
       "      <td>2014-12-16</td>\n",
       "      <td>0.023216</td>\n",
       "      <td>0.017294</td>\n",
       "      <td>0.021720</td>\n",
       "      <td>0.019361</td>\n",
       "      <td>0.019361</td>\n",
       "      <td>0.002570</td>\n",
       "    </tr>\n",
       "    <tr>\n",
       "      <td>2014-12-17</td>\n",
       "      <td>0.020627</td>\n",
       "      <td>0.015759</td>\n",
       "      <td>0.020057</td>\n",
       "      <td>0.018414</td>\n",
       "      <td>0.018414</td>\n",
       "      <td>0.003319</td>\n",
       "    </tr>\n",
       "    <tr>\n",
       "      <td>2014-12-18</td>\n",
       "      <td>0.019655</td>\n",
       "      <td>0.014438</td>\n",
       "      <td>0.018532</td>\n",
       "      <td>0.017325</td>\n",
       "      <td>0.017325</td>\n",
       "      <td>0.003499</td>\n",
       "    </tr>\n",
       "    <tr>\n",
       "      <td>2014-12-19</td>\n",
       "      <td>0.018471</td>\n",
       "      <td>0.013771</td>\n",
       "      <td>0.018886</td>\n",
       "      <td>0.018163</td>\n",
       "      <td>0.018163</td>\n",
       "      <td>0.001784</td>\n",
       "    </tr>\n",
       "    <tr>\n",
       "      <td>2014-12-20</td>\n",
       "      <td>0.019357</td>\n",
       "      <td>0.015291</td>\n",
       "      <td>0.020182</td>\n",
       "      <td>0.019738</td>\n",
       "      <td>0.019738</td>\n",
       "      <td>0.001452</td>\n",
       "    </tr>\n",
       "  </tbody>\n",
       "</table>\n",
       "</div>"
      ],
      "text/plain": [
       "                Open      High       Low     Close  Adj Close    Volume\n",
       "Date                                                                   \n",
       "2014-12-16  0.023216  0.017294  0.021720  0.019361   0.019361  0.002570\n",
       "2014-12-17  0.020627  0.015759  0.020057  0.018414   0.018414  0.003319\n",
       "2014-12-18  0.019655  0.014438  0.018532  0.017325   0.017325  0.003499\n",
       "2014-12-19  0.018471  0.013771  0.018886  0.018163   0.018163  0.001784\n",
       "2014-12-20  0.019357  0.015291  0.020182  0.019738   0.019738  0.001452"
      ]
     },
     "execution_count": 6,
     "metadata": {},
     "output_type": "execute_result"
    }
   ],
   "source": [
    "(data.head())"
   ]
  },
  {
   "cell_type": "code",
   "execution_count": 7,
   "metadata": {},
   "outputs": [
    {
     "data": {
      "text/plain": [
       "(1067, 6)"
      ]
     },
     "execution_count": 7,
     "metadata": {},
     "output_type": "execute_result"
    }
   ],
   "source": [
    "data.shape"
   ]
  },
  {
   "cell_type": "code",
   "execution_count": 8,
   "metadata": {},
   "outputs": [],
   "source": [
    " data = data.values.tolist()"
   ]
  },
  {
   "cell_type": "code",
   "execution_count": 9,
   "metadata": {},
   "outputs": [
    {
     "data": {
      "text/plain": [
       "0.01936145208785464"
      ]
     },
     "execution_count": 9,
     "metadata": {},
     "output_type": "execute_result"
    }
   ],
   "source": [
    "data[0][3]"
   ]
  },
  {
   "cell_type": "code",
   "execution_count": 11,
   "metadata": {},
   "outputs": [],
   "source": [
    "X = []\n",
    "Y = []\n",
    "seq_len = 40\n",
    "num_records = len(data) - seq_len\n",
    "\n",
    "for i in range(num_records):\n",
    "    X.append(data[i:i+seq_len])\n",
    "    Y.append(data[i+seq_len][3])\n",
    "X = np.array(X)\n",
    "\n",
    "\n",
    "Y = np.array(Y)"
   ]
  },
  {
   "cell_type": "code",
   "execution_count": 12,
   "metadata": {},
   "outputs": [
    {
     "data": {
      "text/plain": [
       "array([[2.06271511e-02, 1.57592239e-02, 2.00570277e-02, 1.84144282e-02,\n",
       "        1.84144282e-02, 3.31943524e-03],\n",
       "       [1.96546515e-02, 1.44382519e-02, 1.85322440e-02, 1.73252086e-02,\n",
       "        1.73252086e-02, 3.49878626e-03],\n",
       "       [1.84708692e-02, 1.37708641e-02, 1.88864928e-02, 1.81631781e-02,\n",
       "        1.81631781e-02, 1.78361575e-03],\n",
       "       [1.93567098e-02, 1.52913071e-02, 2.01815792e-02, 1.97376072e-02,\n",
       "        1.97376072e-02, 1.45215550e-03],\n",
       "       [2.09968915e-02, 1.52015643e-02, 2.05807885e-02, 1.85531133e-02,\n",
       "        1.85531133e-02, 8.20935118e-04],\n",
       "       [1.98311303e-02, 1.57802400e-02, 2.07933047e-02, 1.99884644e-02,\n",
       "        1.99884644e-02, 1.61511452e-03],\n",
       "       [2.13371971e-02, 1.60600339e-02, 2.20747082e-02, 2.03375870e-02,\n",
       "        2.03375870e-02, 9.73636569e-04],\n",
       "       [2.16629239e-02, 1.58606966e-02, 2.09234427e-02, 1.87729080e-02,\n",
       "        1.87729080e-02, 8.08051701e-04],\n",
       "       [1.99986721e-02, 1.43042847e-02, 2.03092032e-02, 1.83146041e-02,\n",
       "        1.83146041e-02, 2.26045302e-04],\n",
       "       [1.95675811e-02, 1.54330102e-02, 2.02629858e-02, 1.94734933e-02,\n",
       "        1.94734933e-02, 9.55345023e-04],\n",
       "       [2.07272892e-02, 1.51089883e-02, 1.97048753e-02, 1.79058235e-02,\n",
       "        1.79058235e-02, 8.18432181e-04],\n",
       "       [1.91560224e-02, 1.39636301e-02, 1.94881661e-02, 1.80846747e-02,\n",
       "        1.80846747e-02, 4.26387462e-04],\n",
       "       [1.93679893e-02, 1.39944441e-02, 1.96597744e-02, 1.74908033e-02,\n",
       "        1.74908033e-02, 4.96324414e-04],\n",
       "       [1.86827017e-02, 1.32906980e-02, 1.92500910e-02, 1.72395534e-02,\n",
       "        1.72395534e-02, 5.21554904e-04],\n",
       "       [1.84344198e-02, 1.39849021e-02, 1.93671045e-02, 1.84686281e-02,\n",
       "        1.84686281e-02, 6.79619790e-04],\n",
       "       [1.97440600e-02, 1.40161058e-02, 1.98965881e-02, 1.76960366e-02,\n",
       "        1.76960366e-02, 1.96547529e-05],\n",
       "       [1.88697758e-02, 1.34235043e-02, 1.98354308e-02, 1.77978123e-02,\n",
       "        1.77978123e-02, 0.00000000e+00],\n",
       "       [1.89752785e-02, 1.33346665e-02, 1.52997630e-02, 1.33850446e-02,\n",
       "        1.33850446e-02, 2.81510479e-03],\n",
       "       [1.43397459e-02, 9.73471197e-03, 1.20225988e-02, 1.11901004e-02,\n",
       "        1.11901004e-02, 5.33756159e-03],\n",
       "       [1.21303747e-02, 8.58857860e-03, 1.30659316e-02, 1.25261471e-02,\n",
       "        1.25261471e-02, 4.03398999e-03],\n",
       "       [1.34408375e-02, 9.77635878e-03, 1.41288105e-02, 1.40488434e-02,\n",
       "        1.40488434e-02, 1.71909811e-03],\n",
       "       [1.50180190e-02, 1.12205950e-02, 1.55786095e-02, 1.51079087e-02,\n",
       "        1.51079087e-02, 1.90023694e-03],\n",
       "       [1.61264218e-02, 1.06250306e-02, 1.54523790e-02, 1.36797053e-02,\n",
       "        1.36797053e-02, 1.35447395e-03],\n",
       "       [1.45098988e-02, 1.02355086e-02, 1.52231035e-02, 1.45972215e-02,\n",
       "        1.45972215e-02, 1.21324801e-03],\n",
       "       [1.51866606e-02, 9.85036999e-03, 1.43061417e-02, 1.25679990e-02,\n",
       "        1.25679990e-02, 8.27270675e-04],\n",
       "       [1.34404262e-02, 8.75581116e-03, 1.30596462e-02, 1.13805183e-02,\n",
       "        1.13805183e-02, 1.15538996e-03],\n",
       "       [1.22764532e-02, 7.79715546e-03, 1.30821285e-02, 1.16581503e-02,\n",
       "        1.16581503e-02, 1.23131608e-03],\n",
       "       [1.24481213e-02, 7.29094443e-03, 6.75763387e-03, 6.20750702e-03,\n",
       "        6.20750702e-03, 7.26111315e-03],\n",
       "       [6.46457038e-03, 1.56827548e-03, 0.00000000e+00, 0.00000000e+00,\n",
       "        0.00000000e+00, 1.00316400e-02],\n",
       "       [0.00000000e+00, 2.23527370e-03, 7.52198931e-04, 4.12564350e-03,\n",
       "        4.12564350e-03, 8.25889076e-03],\n",
       "       [4.42548833e-03, 1.27133141e-03, 3.94614130e-03, 3.89857205e-03,\n",
       "        3.89857205e-03, 3.41475912e-03],\n",
       "       [4.25547205e-03, 0.00000000e+00, 3.26250338e-03, 2.74995242e-03,\n",
       "        2.74995242e-03, 1.74412747e-03],\n",
       "       [3.18476109e-03, 8.97926674e-04, 3.21097873e-03, 4.18998423e-03,\n",
       "        4.18998423e-03, 2.48332049e-03],\n",
       "       [4.75575079e-03, 6.44303794e-04, 4.99994391e-03, 4.77774480e-03,\n",
       "        4.77774480e-03, 1.20651019e-03],\n",
       "       [4.95327737e-03, 4.52572577e-04, 4.69764151e-03, 4.31684275e-03,\n",
       "        4.31684275e-03, 1.80909207e-03],\n",
       "       [4.74296017e-03, 2.07036075e-03, 5.54367290e-03, 6.34216606e-03,\n",
       "        6.34216606e-03, 2.46538651e-03],\n",
       "       [6.93610278e-03, 3.26059036e-03, 7.66915185e-03, 7.18819575e-03,\n",
       "        7.18819575e-03, 2.86987886e-03],\n",
       "       [7.78824157e-03, 2.98027907e-03, 7.49628640e-03, 7.11969611e-03,\n",
       "        7.11969611e-03, 1.87284990e-03],\n",
       "       [7.67586076e-03, 4.70353991e-03, 8.17015120e-03, 9.06521282e-03,\n",
       "        9.06521282e-03, 1.89081740e-03],\n",
       "       [9.69128619e-03, 5.58857198e-03, 1.01065678e-02, 9.82831617e-03,\n",
       "        9.82831617e-03, 2.87413609e-03]])"
      ]
     },
     "execution_count": 12,
     "metadata": {},
     "output_type": "execute_result"
    }
   ],
   "source": [
    "X[1]"
   ]
  },
  {
   "cell_type": "code",
   "execution_count": 13,
   "metadata": {},
   "outputs": [
    {
     "data": {
      "text/plain": [
       "0.012396037855187461"
      ]
     },
     "execution_count": 13,
     "metadata": {},
     "output_type": "execute_result"
    }
   ],
   "source": [
    "Y[1]"
   ]
  },
  {
   "cell_type": "code",
   "execution_count": 14,
   "metadata": {},
   "outputs": [
    {
     "data": {
      "text/plain": [
       "(1027, 40, 6)"
      ]
     },
     "execution_count": 14,
     "metadata": {},
     "output_type": "execute_result"
    }
   ],
   "source": [
    "X.shape"
   ]
  },
  {
   "cell_type": "code",
   "execution_count": 15,
   "metadata": {},
   "outputs": [
    {
     "data": {
      "text/plain": [
       "(1027,)"
      ]
     },
     "execution_count": 15,
     "metadata": {},
     "output_type": "execute_result"
    }
   ],
   "source": [
    "Y.shape"
   ]
  },
  {
   "cell_type": "code",
   "execution_count": 16,
   "metadata": {},
   "outputs": [],
   "source": [
    "nsamples, nx, ny = X.shape\n",
    "d2_train_dataset = X.reshape((nsamples,nx*ny))"
   ]
  },
  {
   "cell_type": "code",
   "execution_count": 17,
   "metadata": {},
   "outputs": [
    {
     "data": {
      "text/plain": [
       "(1027, 240)"
      ]
     },
     "execution_count": 17,
     "metadata": {},
     "output_type": "execute_result"
    }
   ],
   "source": [
    "d2_train_dataset.shape"
   ]
  },
  {
   "cell_type": "code",
   "execution_count": 18,
   "metadata": {},
   "outputs": [],
   "source": [
    "from sklearn.linear_model import LinearRegression"
   ]
  },
  {
   "cell_type": "code",
   "execution_count": 19,
   "metadata": {},
   "outputs": [],
   "source": [
    "linreg = LinearRegression().fit(d2_train_dataset, Y)"
   ]
  },
  {
   "cell_type": "code",
   "execution_count": 20,
   "metadata": {},
   "outputs": [
    {
     "name": "stdout",
     "output_type": "stream",
     "text": [
      "linear model coeff (w): [ 1.67497007e-01  1.84029865e-01 -6.27446935e-02  2.85768530e+00\n",
      "  2.85768530e+00 -6.17148970e-05 -5.58087509e+00 -2.12006240e-01\n",
      "  2.17343867e-01  4.06726926e-01  4.06726926e-01 -5.96926916e-02\n",
      " -1.05027537e+00  7.49101608e-01  2.77321908e-01 -1.56989775e+00\n",
      " -1.56989775e+00  1.53192787e-02  2.12373056e+00 -5.61919747e-02\n",
      "  5.17680239e-01 -4.09950425e-01 -4.09950425e-01  8.87198276e-02\n",
      " -1.59806179e-01  6.09351023e-01  8.97201207e-01 -6.41949982e-01\n",
      " -6.41949982e-01  8.19391871e-02  1.91604096e-01  3.22389631e-01\n",
      " -5.95652242e-02  7.75461118e-02  7.75461118e-02 -7.63480694e-02\n",
      "  1.87874434e-01 -8.42908629e-01 -3.89294348e-02  1.33387327e+00\n",
      "  1.33387327e+00  5.99474955e-02 -2.74305257e+00  6.77544125e-01\n",
      "  3.45731164e-01  1.79910082e-01  1.79910082e-01 -7.08886217e-02\n",
      " -5.57265458e-01 -4.66512105e-01 -3.26591922e-01 -2.30274445e-01\n",
      " -2.30274445e-01  2.27263878e-02  1.11561587e+00 -1.36090410e-01\n",
      "  3.14364465e-01  3.86297712e-01  3.86297712e-01  1.81006775e-01\n",
      " -1.06417610e+00 -8.44038430e-02  1.85078649e-01 -5.96338399e-01\n",
      " -5.96338399e-01 -1.00896485e-01  7.59243237e-01  6.89495464e-01\n",
      "  5.65583932e-01  1.21044864e+00  1.21044864e+00 -7.44408285e-02\n",
      " -2.93847109e+00 -4.37322763e-01 -4.11910226e-02  1.09416563e+00\n",
      "  1.09416563e+00  6.43775076e-02 -1.69820561e+00 -1.55407654e-01\n",
      " -4.06469156e-01  9.11047002e-01  9.11047002e-01 -4.48137711e-02\n",
      " -1.62212057e+00  4.03808917e-01 -2.24140782e-01  4.59561513e-01\n",
      "  4.59561513e-01 -6.01133331e-02 -7.05760733e-01 -1.80889675e-01\n",
      "  4.59975007e-02 -7.96008185e-01 -7.96008185e-01  6.07635162e-02\n",
      "  1.56702217e+00  3.29357075e-01 -3.72999009e-01  6.57765597e-01\n",
      "  6.57765597e-01 -6.89372076e-02 -1.40396868e+00  1.15540191e-01\n",
      "  3.82818989e-01 -3.81756968e-01 -3.81756968e-01  3.96368392e-02\n",
      "  5.01211576e-01  1.52128861e-02  2.76945459e-01  6.94844875e-01\n",
      "  6.94844875e-01  3.41570760e-02 -1.40178661e+00 -6.33560649e-02\n",
      " -6.24185090e-01 -3.37824194e-01 -3.37824194e-01 -4.28380412e-03\n",
      "  9.21274401e-01  3.21030847e-01 -1.81255881e-01  1.05138511e+00\n",
      "  1.05138511e+00 -1.70352799e-01 -2.25924907e+00  2.40742367e-01\n",
      " -5.97630744e-02  4.31423942e-01  4.31423942e-01  6.93551097e-02\n",
      " -7.45336685e-01 -2.30991556e-01 -8.18506335e-02  8.92977585e-01\n",
      "  8.92977585e-01 -5.47757797e-02 -1.32217159e+00 -2.41167169e-01\n",
      " -1.83498703e-03 -8.41178389e-01 -8.41178389e-01 -2.80629379e-02\n",
      "  2.02651793e+00 -5.46838822e-02 -1.24528593e-01  1.07936354e+00\n",
      "  1.07936354e+00 -8.50622549e-03 -2.16069925e+00 -4.81268440e-01\n",
      "  1.31616205e-01 -2.26745710e-01 -2.26745710e-01  1.20177022e-01\n",
      "  7.16762635e-01  2.10250867e-01 -1.35965979e-01 -8.85203047e-01\n",
      " -8.85203047e-01 -3.69855950e-02  1.85531188e+00  3.45898369e-01\n",
      " -5.36553887e-01  2.05987057e+00  2.05987057e+00 -7.86558715e-02\n",
      " -3.66631034e+00 -3.69838303e-01 -2.31085133e-02  1.01072959e+00\n",
      "  1.01072959e+00  8.48674416e-02 -1.63399894e+00  1.76007494e-01\n",
      "  1.15583203e-01  1.36171221e+00  1.36171221e+00 -9.14049491e-02\n",
      " -2.49483474e+00 -3.70979164e-01  4.92322563e-02 -1.42215754e+00\n",
      " -1.42215754e+00  8.89380748e-02  2.31436703e+00  4.61659984e-01\n",
      "  3.85024392e-01 -7.49932391e-01 -7.49932391e-01 -7.61249879e-03\n",
      "  7.27204236e-01  6.54756460e-02  2.34904127e-01 -3.13254076e+00\n",
      " -3.13254076e+00 -1.76045717e-02  6.20303693e+00 -7.73908550e-02\n",
      " -4.64567720e-01  2.40924809e-01  2.40924809e-01 -5.43559179e-02\n",
      " -2.31616341e-01 -2.81193916e-01  2.92197472e-01  1.64955340e-01\n",
      "  1.64955340e-01  7.12005254e-02 -4.39963003e-01 -2.50505979e-01\n",
      "  5.87011262e-02  2.51379082e+00  2.51379082e+00  8.72235117e-02\n",
      " -4.59477812e+00  2.03630027e-01 -1.58652756e-01 -3.95193100e-02\n",
      " -3.95193100e-02 -9.59223075e-02 -8.70719350e-02  2.66280158e-01\n",
      "  6.61017993e-02  1.02374413e+00  1.02374413e+00  4.22372222e-02\n",
      " -2.24482305e+00  3.21506346e-01  8.21496240e-02 -1.32241698e+00\n",
      " -1.32241698e+00 -2.27642014e-02  2.40921508e+00 -4.42938910e-01\n",
      " -7.13359778e-04  6.17978695e-01  6.17978695e-01  4.65027044e-02]\n",
      "linear model intercept (b): 0.006945302094669509\n"
     ]
    }
   ],
   "source": [
    "print('linear model coeff (w): {}' .format(linreg.coef_)) \n",
    "print('linear model intercept (b): {}' .format(linreg.intercept_))"
   ]
  },
  {
   "cell_type": "code",
   "execution_count": 21,
   "metadata": {},
   "outputs": [
    {
     "data": {
      "text/html": [
       "<div>\n",
       "<style scoped>\n",
       "    .dataframe tbody tr th:only-of-type {\n",
       "        vertical-align: middle;\n",
       "    }\n",
       "\n",
       "    .dataframe tbody tr th {\n",
       "        vertical-align: top;\n",
       "    }\n",
       "\n",
       "    .dataframe thead th {\n",
       "        text-align: right;\n",
       "    }\n",
       "</style>\n",
       "<table border=\"1\" class=\"dataframe\">\n",
       "  <thead>\n",
       "    <tr style=\"text-align: right;\">\n",
       "      <th></th>\n",
       "      <th>Date</th>\n",
       "      <th>Open</th>\n",
       "      <th>High</th>\n",
       "      <th>Low</th>\n",
       "      <th>Close</th>\n",
       "      <th>Adj Close</th>\n",
       "      <th>Volume</th>\n",
       "    </tr>\n",
       "  </thead>\n",
       "  <tbody>\n",
       "    <tr>\n",
       "      <td>0</td>\n",
       "      <td>2017-11-17</td>\n",
       "      <td>7853.569824</td>\n",
       "      <td>8004.589844</td>\n",
       "      <td>7561.089844</td>\n",
       "      <td>7708.990234</td>\n",
       "      <td>7708.990234</td>\n",
       "      <td>4651670016</td>\n",
       "    </tr>\n",
       "    <tr>\n",
       "      <td>1</td>\n",
       "      <td>2017-11-18</td>\n",
       "      <td>7697.209961</td>\n",
       "      <td>7884.990234</td>\n",
       "      <td>7463.439941</td>\n",
       "      <td>7790.149902</td>\n",
       "      <td>7790.149902</td>\n",
       "      <td>3667190016</td>\n",
       "    </tr>\n",
       "    <tr>\n",
       "      <td>2</td>\n",
       "      <td>2017-11-19</td>\n",
       "      <td>7766.029785</td>\n",
       "      <td>8101.910156</td>\n",
       "      <td>7694.100098</td>\n",
       "      <td>8036.490234</td>\n",
       "      <td>8036.490234</td>\n",
       "      <td>3149319936</td>\n",
       "    </tr>\n",
       "    <tr>\n",
       "      <td>3</td>\n",
       "      <td>2017-11-20</td>\n",
       "      <td>8039.069824</td>\n",
       "      <td>8336.860352</td>\n",
       "      <td>7949.359863</td>\n",
       "      <td>8200.639648</td>\n",
       "      <td>8200.639648</td>\n",
       "      <td>3488450048</td>\n",
       "    </tr>\n",
       "    <tr>\n",
       "      <td>4</td>\n",
       "      <td>2017-11-21</td>\n",
       "      <td>8205.740234</td>\n",
       "      <td>8348.660156</td>\n",
       "      <td>7762.709961</td>\n",
       "      <td>8071.259766</td>\n",
       "      <td>8071.259766</td>\n",
       "      <td>4277609984</td>\n",
       "    </tr>\n",
       "  </tbody>\n",
       "</table>\n",
       "</div>"
      ],
      "text/plain": [
       "        Date         Open         High          Low        Close    Adj Close  \\\n",
       "0 2017-11-17  7853.569824  8004.589844  7561.089844  7708.990234  7708.990234   \n",
       "1 2017-11-18  7697.209961  7884.990234  7463.439941  7790.149902  7790.149902   \n",
       "2 2017-11-19  7766.029785  8101.910156  7694.100098  8036.490234  8036.490234   \n",
       "3 2017-11-20  8039.069824  8336.860352  7949.359863  8200.639648  8200.639648   \n",
       "4 2017-11-21  8205.740234  8348.660156  7762.709961  8071.259766  8071.259766   \n",
       "\n",
       "       Volume  \n",
       "0  4651670016  \n",
       "1  3667190016  \n",
       "2  3149319936  \n",
       "3  3488450048  \n",
       "4  4277609984  "
      ]
     },
     "execution_count": 21,
     "metadata": {},
     "output_type": "execute_result"
    }
   ],
   "source": [
    "excel_file1 = 'BTC-USD-test-new.xlsx'\n",
    "data_test = pd.read_excel(excel_file1)\n",
    "(data_test.head())"
   ]
  },
  {
   "cell_type": "code",
   "execution_count": 22,
   "metadata": {},
   "outputs": [
    {
     "data": {
      "image/png": "[encoded data removed]",
      "text/plain": [
       "<Figure size 1152x360 with 1 Axes>"
      ]
     },
     "metadata": {
      "needs_background": "light"
     },
     "output_type": "display_data"
    }
   ],
   "source": [
    "data_test.plot(x = 'Date',y = 'Close',figsize=(16,5))\n",
    "\n",
    "plt.xlabel('Date')\n",
    "plt.ylabel('Price in USD')\n",
    "plt.title('Bitcoin Price')\n",
    "plt.savefig('btcprice.png')\n",
    "plt.show()"
   ]
  },
  {
   "cell_type": "code",
   "execution_count": 23,
   "metadata": {},
   "outputs": [],
   "source": [
    "data_test = data_test.set_index(\"Date\")\n",
    "data_test = data_test.set_index(pd.to_datetime(data_test.index))"
   ]
  },
  {
   "cell_type": "code",
   "execution_count": 24,
   "metadata": {},
   "outputs": [
    {
     "data": {
      "text/html": [
       "<div>\n",
       "<style scoped>\n",
       "    .dataframe tbody tr th:only-of-type {\n",
       "        vertical-align: middle;\n",
       "    }\n",
       "\n",
       "    .dataframe tbody tr th {\n",
       "        vertical-align: top;\n",
       "    }\n",
       "\n",
       "    .dataframe thead th {\n",
       "        text-align: right;\n",
       "    }\n",
       "</style>\n",
       "<table border=\"1\" class=\"dataframe\">\n",
       "  <thead>\n",
       "    <tr style=\"text-align: right;\">\n",
       "      <th></th>\n",
       "      <th>Open</th>\n",
       "      <th>High</th>\n",
       "      <th>Low</th>\n",
       "      <th>Close</th>\n",
       "      <th>Adj Close</th>\n",
       "      <th>Volume</th>\n",
       "    </tr>\n",
       "    <tr>\n",
       "      <th>Date</th>\n",
       "      <th></th>\n",
       "      <th></th>\n",
       "      <th></th>\n",
       "      <th></th>\n",
       "      <th></th>\n",
       "      <th></th>\n",
       "    </tr>\n",
       "  </thead>\n",
       "  <tbody>\n",
       "    <tr>\n",
       "      <td>2017-11-17</td>\n",
       "      <td>7853.569824</td>\n",
       "      <td>8004.589844</td>\n",
       "      <td>7561.089844</td>\n",
       "      <td>7708.990234</td>\n",
       "      <td>7708.990234</td>\n",
       "      <td>4651670016</td>\n",
       "    </tr>\n",
       "    <tr>\n",
       "      <td>2017-11-18</td>\n",
       "      <td>7697.209961</td>\n",
       "      <td>7884.990234</td>\n",
       "      <td>7463.439941</td>\n",
       "      <td>7790.149902</td>\n",
       "      <td>7790.149902</td>\n",
       "      <td>3667190016</td>\n",
       "    </tr>\n",
       "    <tr>\n",
       "      <td>2017-11-19</td>\n",
       "      <td>7766.029785</td>\n",
       "      <td>8101.910156</td>\n",
       "      <td>7694.100098</td>\n",
       "      <td>8036.490234</td>\n",
       "      <td>8036.490234</td>\n",
       "      <td>3149319936</td>\n",
       "    </tr>\n",
       "    <tr>\n",
       "      <td>2017-11-20</td>\n",
       "      <td>8039.069824</td>\n",
       "      <td>8336.860352</td>\n",
       "      <td>7949.359863</td>\n",
       "      <td>8200.639648</td>\n",
       "      <td>8200.639648</td>\n",
       "      <td>3488450048</td>\n",
       "    </tr>\n",
       "    <tr>\n",
       "      <td>2017-11-21</td>\n",
       "      <td>8205.740234</td>\n",
       "      <td>8348.660156</td>\n",
       "      <td>7762.709961</td>\n",
       "      <td>8071.259766</td>\n",
       "      <td>8071.259766</td>\n",
       "      <td>4277609984</td>\n",
       "    </tr>\n",
       "  </tbody>\n",
       "</table>\n",
       "</div>"
      ],
      "text/plain": [
       "                   Open         High          Low        Close    Adj Close  \\\n",
       "Date                                                                          \n",
       "2017-11-17  7853.569824  8004.589844  7561.089844  7708.990234  7708.990234   \n",
       "2017-11-18  7697.209961  7884.990234  7463.439941  7790.149902  7790.149902   \n",
       "2017-11-19  7766.029785  8101.910156  7694.100098  8036.490234  8036.490234   \n",
       "2017-11-20  8039.069824  8336.860352  7949.359863  8200.639648  8200.639648   \n",
       "2017-11-21  8205.740234  8348.660156  7762.709961  8071.259766  8071.259766   \n",
       "\n",
       "                Volume  \n",
       "Date                    \n",
       "2017-11-17  4651670016  \n",
       "2017-11-18  3667190016  \n",
       "2017-11-19  3149319936  \n",
       "2017-11-20  3488450048  \n",
       "2017-11-21  4277609984  "
      ]
     },
     "execution_count": 24,
     "metadata": {},
     "output_type": "execute_result"
    }
   ],
   "source": [
    "data_test.head()"
   ]
  },
  {
   "cell_type": "code",
   "execution_count": 25,
   "metadata": {},
   "outputs": [
    {
     "data": {
      "text/html": [
       "<div>\n",
       "<style scoped>\n",
       "    .dataframe tbody tr th:only-of-type {\n",
       "        vertical-align: middle;\n",
       "    }\n",
       "\n",
       "    .dataframe tbody tr th {\n",
       "        vertical-align: top;\n",
       "    }\n",
       "\n",
       "    .dataframe thead th {\n",
       "        text-align: right;\n",
       "    }\n",
       "</style>\n",
       "<table border=\"1\" class=\"dataframe\">\n",
       "  <thead>\n",
       "    <tr style=\"text-align: right;\">\n",
       "      <th></th>\n",
       "      <th>Open</th>\n",
       "      <th>High</th>\n",
       "      <th>Low</th>\n",
       "      <th>Close</th>\n",
       "      <th>Adj Close</th>\n",
       "      <th>Volume</th>\n",
       "    </tr>\n",
       "    <tr>\n",
       "      <th>Date</th>\n",
       "      <th></th>\n",
       "      <th></th>\n",
       "      <th></th>\n",
       "      <th></th>\n",
       "      <th></th>\n",
       "      <th></th>\n",
       "    </tr>\n",
       "  </thead>\n",
       "  <tbody>\n",
       "    <tr>\n",
       "      <td>2017-11-17</td>\n",
       "      <td>0.284325</td>\n",
       "      <td>0.281273</td>\n",
       "      <td>0.276870</td>\n",
       "      <td>0.275034</td>\n",
       "      <td>0.275034</td>\n",
       "      <td>0.082611</td>\n",
       "    </tr>\n",
       "    <tr>\n",
       "      <td>2017-11-18</td>\n",
       "      <td>0.274696</td>\n",
       "      <td>0.274159</td>\n",
       "      <td>0.270683</td>\n",
       "      <td>0.280025</td>\n",
       "      <td>0.280025</td>\n",
       "      <td>0.035546</td>\n",
       "    </tr>\n",
       "    <tr>\n",
       "      <td>2017-11-19</td>\n",
       "      <td>0.278934</td>\n",
       "      <td>0.287061</td>\n",
       "      <td>0.285298</td>\n",
       "      <td>0.295175</td>\n",
       "      <td>0.295175</td>\n",
       "      <td>0.010788</td>\n",
       "    </tr>\n",
       "    <tr>\n",
       "      <td>2017-11-20</td>\n",
       "      <td>0.295747</td>\n",
       "      <td>0.301035</td>\n",
       "      <td>0.301471</td>\n",
       "      <td>0.305270</td>\n",
       "      <td>0.305270</td>\n",
       "      <td>0.027001</td>\n",
       "    </tr>\n",
       "    <tr>\n",
       "      <td>2017-11-21</td>\n",
       "      <td>0.306011</td>\n",
       "      <td>0.301736</td>\n",
       "      <td>0.289645</td>\n",
       "      <td>0.297313</td>\n",
       "      <td>0.297313</td>\n",
       "      <td>0.064728</td>\n",
       "    </tr>\n",
       "  </tbody>\n",
       "</table>\n",
       "</div>"
      ],
      "text/plain": [
       "                Open      High       Low     Close  Adj Close    Volume\n",
       "Date                                                                   \n",
       "2017-11-17  0.284325  0.281273  0.276870  0.275034   0.275034  0.082611\n",
       "2017-11-18  0.274696  0.274159  0.270683  0.280025   0.280025  0.035546\n",
       "2017-11-19  0.278934  0.287061  0.285298  0.295175   0.295175  0.010788\n",
       "2017-11-20  0.295747  0.301035  0.301471  0.305270   0.305270  0.027001\n",
       "2017-11-21  0.306011  0.301736  0.289645  0.297313   0.297313  0.064728"
      ]
     },
     "execution_count": 25,
     "metadata": {},
     "output_type": "execute_result"
    }
   ],
   "source": [
    "data_test = pd.DataFrame(scaler.fit_transform(data_test), columns=data_test.columns, index=data_test.index)\n",
    "data_test.head()"
   ]
  },
  {
   "cell_type": "code",
   "execution_count": null,
   "metadata": {},
   "outputs": [],
   "source": []
  },
  {
   "cell_type": "code",
   "execution_count": 26,
   "metadata": {},
   "outputs": [
    {
     "data": {
      "text/plain": [
       "(411, 6)"
      ]
     },
     "execution_count": 26,
     "metadata": {},
     "output_type": "execute_result"
    }
   ],
   "source": [
    "data_test.shape"
   ]
  },
  {
   "cell_type": "code",
   "execution_count": 27,
   "metadata": {},
   "outputs": [],
   "source": [
    "data_test = data_test.values.tolist()"
   ]
  },
  {
   "cell_type": "code",
   "execution_count": 28,
   "metadata": {},
   "outputs": [],
   "source": [
    "X_test = []\n",
    "Y_test = []\n",
    "seq_len_test = 40\n",
    "num_records_test = len(data_test) - seq_len_test\n",
    "\n",
    "for i in range(num_records_test):\n",
    "    X_test.append(data_test[i:i+seq_len_test])\n",
    "    Y_test.append(data_test[i+seq_len_test][3])\n",
    "X_test= np.array(X_test)\n",
    "\n",
    "\n",
    "Y_test = np.array(Y_test)"
   ]
  },
  {
   "cell_type": "code",
   "execution_count": 29,
   "metadata": {},
   "outputs": [
    {
     "data": {
      "text/plain": [
       "(371, 40, 6)"
      ]
     },
     "execution_count": 29,
     "metadata": {},
     "output_type": "execute_result"
    }
   ],
   "source": [
    "X_test.shape"
   ]
  },
  {
   "cell_type": "code",
   "execution_count": 30,
   "metadata": {},
   "outputs": [
    {
     "data": {
      "text/plain": [
       "(371,)"
      ]
     },
     "execution_count": 30,
     "metadata": {},
     "output_type": "execute_result"
    }
   ],
   "source": [
    "Y_test.shape"
   ]
  },
  {
   "cell_type": "code",
   "execution_count": 31,
   "metadata": {},
   "outputs": [],
   "source": [
    "Nsamples, Nx, Ny = X_test.shape\n",
    "d2_test_dataset = X_test.reshape((Nsamples,Nx*Ny))"
   ]
  },
  {
   "cell_type": "code",
   "execution_count": 32,
   "metadata": {},
   "outputs": [
    {
     "data": {
      "text/plain": [
       "(371, 240)"
      ]
     },
     "execution_count": 32,
     "metadata": {},
     "output_type": "execute_result"
    }
   ],
   "source": [
    "d2_test_dataset.shape"
   ]
  },
  {
   "cell_type": "code",
   "execution_count": 33,
   "metadata": {},
   "outputs": [],
   "source": [
    "y_predicted = linreg.predict(d2_test_dataset)"
   ]
  },
  {
   "cell_type": "code",
   "execution_count": 34,
   "metadata": {},
   "outputs": [
    {
     "data": {
      "text/plain": [
       "(371,)"
      ]
     },
     "execution_count": 34,
     "metadata": {},
     "output_type": "execute_result"
    }
   ],
   "source": [
    "y_predicted.shape"
   ]
  },
  {
   "cell_type": "code",
   "execution_count": 35,
   "metadata": {},
   "outputs": [
    {
     "data": {
      "text/plain": [
       "0.7749842140394867"
      ]
     },
     "execution_count": 35,
     "metadata": {},
     "output_type": "execute_result"
    }
   ],
   "source": [
    "Y_test[0]"
   ]
  },
  {
   "cell_type": "code",
   "execution_count": 36,
   "metadata": {},
   "outputs": [
    {
     "data": {
      "text/plain": [
       "<matplotlib.legend.Legend at 0x119187a8e88>"
      ]
     },
     "execution_count": 36,
     "metadata": {},
     "output_type": "execute_result"
    },
    {
     "data": {
      "image/png": "[encoded data removed]",
      "text/plain": [
       "<Figure size 720x360 with 1 Axes>"
      ]
     },
     "metadata": {
      "needs_background": "light"
     },
     "output_type": "display_data"
    }
   ],
   "source": [
    "fig = plt.figure(figsize=(10,5))\n",
    "ax = fig.add_subplot(111)\n",
    "ax.set_title(\"Bitcoin Price Over Time\")\n",
    "plt.plot(y_predicted, color = 'green', label = 'Predicted Price')\n",
    "plt.plot(Y_test, color = 'red', label = 'Real Price')\n",
    "ax.set_ylabel(\"Price (USD)\")\n",
    "ax.set_xlabel(\"Time (Days)\")\n",
    "ax.legend()"
   ]
  },
  {
   "cell_type": "code",
   "execution_count": null,
   "metadata": {},
   "outputs": [],
   "source": []
  }
 ],
 "metadata": {
  "kernelspec": {
   "display_name": "Python 3",
   "language": "python",
   "name": "python3"
  },
  "language_info": {
   "codemirror_mode": {
    "name": "ipython",
    "version": 3
   },
   "file_extension": ".py",
   "mimetype": "text/x-python",
   "name": "python",
   "nbconvert_exporter": "python",
   "pygments_lexer": "ipython3",
   "version": "3.7.4"
  }
 },
 "nbformat": 4,
 "nbformat_minor": 2
}
